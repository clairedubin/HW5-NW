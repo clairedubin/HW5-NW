{
 "cells": [
  {
   "cell_type": "code",
   "execution_count": 242,
   "id": "3e516164",
   "metadata": {},
   "outputs": [
    {
     "name": "stdout",
     "output_type": "stream",
     "text": [
      "The autoreload extension is already loaded. To reload it, use:\n",
      "  %reload_ext autoreload\n"
     ]
    }
   ],
   "source": [
    "%load_ext autoreload\n",
    "\n",
    "%autoreload 2\n",
    "from align import *\n",
    "from typing import Tuple\n",
    "import numpy as np"
   ]
  },
  {
   "cell_type": "code",
   "execution_count": 261,
   "id": "f4a1d55a",
   "metadata": {},
   "outputs": [],
   "source": [
    "def _get_next_cell(self, i,j):\n",
    "    \n",
    "    \"\"\"Returns coordinates of next cell to go to in traceback according to move encoded in traceback matrix\"\"\"\n",
    "    \n",
    "    move = self._traceback_matrix[i,j]\n",
    "    \n",
    "    #move diagonally\n",
    "    if move == 0:\n",
    "        return (i-1, j-1)\n",
    "    #move left\n",
    "    if move == 1:\n",
    "        return (i, j-1)\n",
    "    #move up\n",
    "    if move == 2:\n",
    "        return (i-1, j)"
   ]
  },
  {
   "cell_type": "code",
   "execution_count": 262,
   "id": "f80b3de6",
   "metadata": {},
   "outputs": [],
   "source": [
    "seqA, _ = read_fasta(\"./data/test_seq3.fa\")\n",
    "seqB, _ = read_fasta(\"./data/test_seq4.fa\")"
   ]
  },
  {
   "cell_type": "code",
   "execution_count": 263,
   "id": "c5bc463e",
   "metadata": {},
   "outputs": [],
   "source": [
    "t = NeedlemanWunsch(sub_matrix_file='substitution_matrices/BLOSUM62.mat', gap_open=-10, gap_extend=-1)\n",
    "sub_matrix = t.sub_dict\n",
    "sub_dict = t.sub_dict\n",
    "\n",
    "gap_open = -10\n",
    "gap_extend = -1"
   ]
  },
  {
   "cell_type": "code",
   "execution_count": 264,
   "id": "3d07e913",
   "metadata": {},
   "outputs": [],
   "source": [
    "#initialize matrices\n",
    "_matrix_dims = (len(self._seqA)+1, len(self._seqB)+1)\n",
    "self._align_matrix = np.full(_matrix_dims, -np.inf)\n",
    "self._gapA_matrix = np.full(_matrix_dims, -np.inf)\n",
    "self._gapB_matrix = np.full(_matrix_dims, -np.inf)\n",
    "self._traceback_matrix = np.full(_matrix_dims, -np.inf)\n",
    "\n",
    "self._align_matrix[0,0] = 0\n",
    "\n",
    "self._traceback_matrix[1:,0] = 1\n",
    "self._traceback_matrix[0,1:] = 2 \n",
    "self._traceback_matrix[0,0] = 0\n",
    "\n",
    "for i in range(_matrix_dims[0]): \n",
    "    if i == 0:\n",
    "        self._gapA_matrix[i, 0] = self.gap_open\n",
    "    else:\n",
    "        self._gapA_matrix[i, 0] = self.gap_extend+self._gapA_matrix[i-1,0]\n",
    "    \n",
    "for j in range(_matrix_dims[1]):   \n",
    "    if j == 0:\n",
    "        self._gapB_matrix[0, j] = self.gap_open\n",
    "    else:\n",
    "        self._gapB_matrix[0, j] = self.gap_extend+self._gapB_matrix[0,j-1]\n",
    "    \n",
    "#iterate by row and column\n",
    "\n",
    "for i in range(1, _matrix_dims[0]):\n",
    "    for j in range(1, _matrix_dims[1]):\n",
    "        \n",
    "        subst_score = sub_matrix[(self._seqA[i-1], self._seqB[j-1])]\n",
    "        options = [subst_score + self._align_matrix[i-1, j-1]]\n",
    "        options += [subst_score + self._gapA_matrix[i-1,j-1]]\n",
    "        options += [subst_score + self._gapB_matrix[i-1,j-1]]\n",
    "        self._align_matrix[i,j] = max(options)\n",
    "        \n",
    "        self._gapA_matrix[i, j] = max(self._align_matrix[i-1,j]+self.gap_open+self.gap_extend, \n",
    "                                self._gapA_matrix[i-1, j]+self.gap_extend)\n",
    "        self._gapB_matrix[i, j] = max(self._align_matrix[i,j-1]+self.gap_open+self.gap_extend, \n",
    "                                self._gapB_matrix[i, j-1]+self.gap_extend)\n",
    "        options = [self._align_matrix[i,j],self._gapB_matrix[i, j],self._gapA_matrix[i, j],]\n",
    "        \n",
    "        #add best move to traceback matrix\n",
    "        self._traceback_matrix[i,j] = options.index(max(options))\n",
    "        \n",
    "#traceback\n",
    "self.seqA_align = ''\n",
    "self.seqB_align = ''\n",
    "\n",
    "_seqA_pos = _matrix_dims[0]-1\n",
    "_seqB_pos = _matrix_dims[1]-1\n",
    "\n",
    "self.alignment_score = self._align_matrix[_seqA_pos, _seqB_pos]\n",
    "\n",
    "while True:\n",
    "\n",
    "    move = self._traceback_matrix[_seqA_pos, _seqB_pos]\n",
    "    _seqA_prev_pos = _seqA_pos\n",
    "    _seqB_prev_pos = _seqB_pos\n",
    "\n",
    "    _seqA_pos, _seqB_pos = get_next_cell(_seqA_prev_pos, _seqB_prev_pos)\n",
    "\n",
    "    if _seqA_pos == _seqA_prev_pos:\n",
    "        self.seqA_align += '-'\n",
    "    else:\n",
    "        self.seqA_align += self._seqA[_seqA_pos]\n",
    "    \n",
    "    if _seqB_pos == _seqB_prev_pos:\n",
    "        self.seqB_align += '-'\n",
    "    else:\n",
    "        self.seqB_align += self._seqB[_seqB_pos]\n",
    "        \n",
    "    if _seqA_pos == 0 and _seqB_pos == 0:\n",
    "        break\n",
    "\n",
    "self.seqA_align = self.seqA_align[::-1]\n",
    "self.seqB_align = self.seqB_align[::-1]"
   ]
  },
  {
   "cell_type": "code",
   "execution_count": 265,
   "id": "bd9636ad",
   "metadata": {},
   "outputs": [],
   "source": []
  },
  {
   "cell_type": "code",
   "execution_count": 270,
   "id": "1d567923",
   "metadata": {},
   "outputs": [
    {
     "name": "stdout",
     "output_type": "stream",
     "text": [
      "4 3\n",
      "3 2\n",
      "2 1\n",
      "1 1\n",
      "MYQR\n",
      "M-QR\n"
     ]
    }
   ],
   "source": []
  },
  {
   "cell_type": "code",
   "execution_count": null,
   "id": "53d8da69",
   "metadata": {},
   "outputs": [],
   "source": []
  }
 ],
 "metadata": {
  "kernelspec": {
   "display_name": "Python 3 (ipykernel)",
   "language": "python",
   "name": "python3"
  },
  "language_info": {
   "codemirror_mode": {
    "name": "ipython",
    "version": 3
   },
   "file_extension": ".py",
   "mimetype": "text/x-python",
   "name": "python",
   "nbconvert_exporter": "python",
   "pygments_lexer": "ipython3",
   "version": "3.9.13"
  }
 },
 "nbformat": 4,
 "nbformat_minor": 5
}
