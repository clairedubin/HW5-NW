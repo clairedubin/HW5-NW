{
 "cells": [
  {
   "cell_type": "code",
   "execution_count": 242,
   "id": "3e516164",
   "metadata": {},
   "outputs": [
    {
     "name": "stdout",
     "output_type": "stream",
     "text": [
      "The autoreload extension is already loaded. To reload it, use:\n",
      "  %reload_ext autoreload\n"
     ]
    }
   ],
   "source": [
    "%load_ext autoreload\n",
    "\n",
    "%autoreload 2\n",
    "from align import *\n",
    "from typing import Tuple\n",
    "import numpy as np"
   ]
  },
  {
   "cell_type": "code",
   "execution_count": 28,
   "id": "8bce30cd",
   "metadata": {},
   "outputs": [
    {
     "name": "stdout",
     "output_type": "stream",
     "text": [
      "BLOSUM50.mat BLOSUM62.mat PAM100.mat   PAM250.mat\r\n"
     ]
    }
   ],
   "source": [
    "!ls substitution_matrices"
   ]
  },
  {
   "cell_type": "code",
   "execution_count": 261,
   "id": "43aa925b",
   "metadata": {},
   "outputs": [],
   "source": [
    "def _get_next_cell(self, i,j):\n",
    "    \n",
    "    \"\"\"Returns coordinates of next cell to go to in traceback according to move encoded in traceback matrix\"\"\"\n",
    "    \n",
    "    move = self._traceback_matrix[i,j]\n",
    "    \n",
    "    #move diagonally\n",
    "    if move == 0:\n",
    "        return (i-1, j-1)\n",
    "    #move left\n",
    "    if move == 1:\n",
    "        return (i, j-1)\n",
    "    #move up\n",
    "    if move == 2:\n",
    "        return (i-1, j)"
   ]
  },
  {
   "cell_type": "code",
   "execution_count": 262,
   "id": "f80b3de6",
   "metadata": {},
   "outputs": [],
   "source": [
    "seqA, _ = read_fasta(\"./data/test_seq3.fa\")\n",
    "seqB, _ = read_fasta(\"./data/test_seq4.fa\")"
   ]
  },
  {
   "cell_type": "code",
   "execution_count": 263,
   "id": "c5bc463e",
   "metadata": {},
   "outputs": [],
   "source": [
    "t = NeedlemanWunsch(sub_matrix_file='substitution_matrices/BLOSUM62.mat', gap_open=-10, gap_extend=-1)\n",
    "sub_matrix = t.sub_dict\n",
    "sub_dict = t.sub_dict\n",
    "\n",
    "gap_open = -10\n",
    "gap_extend = -1"
   ]
  },
  {
   "cell_type": "code",
   "execution_count": 264,
   "id": "3d07e913",
   "metadata": {},
   "outputs": [],
   "source": [
    "#initialize matrices\n",
    "\n",
    "matrix_dims = (len(seqA)+1, len(seqB)+1)\n",
    "alignment_matrix = np.full(matrix_dims, -np.inf)\n",
    "A_gap_matrix = np.full(matrix_dims, -np.inf)\n",
    "B_gap_matrix = np.full(matrix_dims, -np.inf)\n",
    "traceback_matrix = np.full(matrix_dims, -np.inf)\n",
    "\n",
    "alignment_matrix[0,0] = 0\n",
    "\n",
    "traceback_matrix[1:,0] = 1\n",
    "traceback_matrix[0,1:] = 2 \n",
    "traceback_matrix[0,0] = 0\n",
    "\n",
    "for i in range(matrix_dims[0]): \n",
    "    if i == 0:\n",
    "        A_gap_matrix[i, 0] = gap_open\n",
    "    else:\n",
    "        A_gap_matrix[i, 0] = gap_extend+A_gap_matrix[i-1,0]\n",
    "    \n",
    "for j in range(matrix_dims[1]):   \n",
    "    if j == 0:\n",
    "        B_gap_matrix[0, j] = gap_open\n",
    "    else:\n",
    "        B_gap_matrix[0, j] = gap_extend+B_gap_matrix[0,j-1]\n",
    "        \n"
   ]
  },
  {
   "cell_type": "code",
   "execution_count": 266,
   "id": "fe9147ef",
   "metadata": {},
   "outputs": [
    {
     "data": {
      "text/plain": [
       "array([[  0., -inf, -inf, -inf],\n",
       "       [-inf,   5., -11., -13.],\n",
       "       [-inf, -12.,   4.,  -8.],\n",
       "       [-inf, -12.,  -1.,   5.],\n",
       "       [-inf, -14.,  -6.,   4.]])"
      ]
     },
     "execution_count": 266,
     "metadata": {},
     "output_type": "execute_result"
    }
   ],
   "source": [
    "alignment_matrix"
   ]
  },
  {
   "cell_type": "code",
   "execution_count": 267,
   "id": "efe81ce6",
   "metadata": {},
   "outputs": [
    {
     "data": {
      "text/plain": [
       "array([[0., 2., 2., 2.],\n",
       "       [1., 0., 1., 1.],\n",
       "       [1., 2., 0., 1.],\n",
       "       [1., 2., 0., 0.],\n",
       "       [1., 2., 0., 0.]])"
      ]
     },
     "execution_count": 267,
     "metadata": {},
     "output_type": "execute_result"
    }
   ],
   "source": [
    "traceback_matrix"
   ]
  },
  {
   "cell_type": "code",
   "execution_count": 268,
   "id": "c7e92160",
   "metadata": {},
   "outputs": [
    {
     "data": {
      "text/plain": [
       "(4, 3)"
      ]
     },
     "execution_count": 268,
     "metadata": {},
     "output_type": "execute_result"
    }
   ],
   "source": [
    "len(seqA), len(seqB)"
   ]
  },
  {
   "cell_type": "code",
   "execution_count": 269,
   "id": "126be97d",
   "metadata": {},
   "outputs": [
    {
     "data": {
      "text/plain": [
       "(5, 4)"
      ]
     },
     "execution_count": 269,
     "metadata": {},
     "output_type": "execute_result"
    }
   ],
   "source": [
    "matrix_dims"
   ]
  },
  {
   "cell_type": "code",
   "execution_count": 212,
   "id": "9913fe51",
   "metadata": {},
   "outputs": [
    {
     "data": {
      "text/plain": [
       "array([[  0., -inf, -inf, -inf, -inf, -inf, -inf, -inf, -inf, -inf, -inf],\n",
       "       [-inf,   5., -12., -11., -15., -14., -13., -15., -18., -19., -21.],\n",
       "       [-inf, -11.,   4.,  -8.,  -7.,  -3., -11., -13., -10., -11., -14.],\n",
       "       [-inf, -10.,  -7.,   5., -10.,  -9.,   1.,  -8., -13., -12., -14.],\n",
       "       [-inf, -12.,  -8.,  -4.,   2.,  -9.,  -5.,   5., -11., -13., -14.],\n",
       "       [-inf, -15.,  -9., -11.,  -4.,   3., -11.,  -8.,  10.,  -1.,  -9.],\n",
       "       [-inf, -17., -11., -12.,   1.,  -4.,   0., -11.,  -6.,  10.,  -3.],\n",
       "       [-inf, -18., -11., -12., -10.,   0.,  -7.,  -3.,  -9.,  -3.,  17.]])"
      ]
     },
     "execution_count": 212,
     "metadata": {},
     "output_type": "execute_result"
    }
   ],
   "source": [
    "alignment_matrix"
   ]
  },
  {
   "cell_type": "code",
   "execution_count": 206,
   "id": "9c5afb75",
   "metadata": {
    "scrolled": true
   },
   "outputs": [
    {
     "name": "stdout",
     "output_type": "stream",
     "text": [
      "MAVHQLIRRP\n",
      "M---QLIRHP\n"
     ]
    }
   ],
   "source": [
    "print(\"MAVHQLIRRP\")\n",
    "\n",
    "print(\"M---QLIRHP\")"
   ]
  },
  {
   "cell_type": "code",
   "execution_count": 205,
   "id": "f82071c8",
   "metadata": {
    "scrolled": true
   },
   "outputs": [
    {
     "name": "stdout",
     "output_type": "stream",
     "text": [
      "PHRILQ---M\n",
      "PRRILQHVAM\n"
     ]
    }
   ],
   "source": [
    "print(seqA_algn)\n",
    "print(seqB_algn)"
   ]
  },
  {
   "cell_type": "code",
   "execution_count": 61,
   "id": "4ab15c6d",
   "metadata": {},
   "outputs": [
    {
     "data": {
      "text/plain": [
       "(10, 7)"
      ]
     },
     "execution_count": 61,
     "metadata": {},
     "output_type": "execute_result"
    }
   ],
   "source": [
    "len(seqA), len(seqB)"
   ]
  },
  {
   "cell_type": "code",
   "execution_count": 63,
   "id": "19f5e5bf",
   "metadata": {},
   "outputs": [
    {
     "data": {
      "text/plain": [
       "('MAVHQLIRRP', 'MQLIRHP')"
      ]
     },
     "execution_count": 63,
     "metadata": {},
     "output_type": "execute_result"
    }
   ],
   "source": [
    "seqA, seqB"
   ]
  },
  {
   "cell_type": "code",
   "execution_count": 68,
   "id": "7d5069d6",
   "metadata": {},
   "outputs": [
    {
     "data": {
      "text/plain": [
       "'MAVHQLIRRP'"
      ]
     },
     "execution_count": 68,
     "metadata": {},
     "output_type": "execute_result"
    }
   ],
   "source": [
    "seqA"
   ]
  },
  {
   "cell_type": "code",
   "execution_count": 70,
   "id": "955bc625",
   "metadata": {},
   "outputs": [
    {
     "data": {
      "text/plain": [
       "(10, 7, (11, 8))"
      ]
     },
     "execution_count": 70,
     "metadata": {},
     "output_type": "execute_result"
    }
   ],
   "source": [
    "len(seqA), len(seqB), alignment_matrix.shape"
   ]
  }
 ],
 "metadata": {
  "kernelspec": {
   "display_name": "Python 3 (ipykernel)",
   "language": "python",
   "name": "python3"
  },
  "language_info": {
   "codemirror_mode": {
    "name": "ipython",
    "version": 3
   },
   "file_extension": ".py",
   "mimetype": "text/x-python",
   "name": "python",
   "nbconvert_exporter": "python",
   "pygments_lexer": "ipython3",
   "version": "3.9.13"
  }
 },
 "nbformat": 4,
 "nbformat_minor": 5
}
